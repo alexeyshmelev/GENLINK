{
 "cells": [
  {
   "cell_type": "markdown",
   "metadata": {},
   "source": [
    "# Importing libs"
   ]
  },
  {
   "cell_type": "code",
   "execution_count": 13,
   "metadata": {},
   "outputs": [],
   "source": [
    "import sys, os\n",
    "import numpy as np\n",
    "import pandas as pd\n",
    "sys.path.append(os.path.abspath(os.path.join(os.path.dirname(''), os.path.pardir))) # if you run this notebook from its current folder on our GitHub, you may need this line\n",
    "from utils.genlink import DataProcessor # core class, all graphs are processed there\n",
    "from utils.genlink import Trainer # you can train your nets using our algorithms with this class\n",
    "from utils.genlink import NullSimulator # you can simulate graphs with that class\n",
    "from utils.models import GL_TAGConv_3l_512h_w_k3_gnorm # here is one of our best gnn, see all available classes in utils.models, they all can be used absolutely identical"
   ]
  },
  {
   "cell_type": "code",
   "execution_count": 2,
   "metadata": {},
   "outputs": [],
   "source": [
    "# let's also fix our seed globally\n",
    "seed = 42"
   ]
  },
  {
   "cell_type": "markdown",
   "metadata": {},
   "source": [
    "Disclamer: there are not so many internal code asserts across current GENLINK repository, so, please, follow instructions as all this code is not designed to work with what it's not designed to work for :)"
   ]
  },
  {
   "cell_type": "markdown",
   "metadata": {},
   "source": [
    "# Graph simulation and visualization"
   ]
  },
  {
   "cell_type": "markdown",
   "metadata": {},
   "source": [
    "Let's simulate very simple graph with 4 populations. Initially, you need to pass 3 arguments to the `NullSimulator` class:\n",
    "\n",
    "* `num_classes` - how many populations you want to simulat (int)\n",
    "* `edge_probs` - edge probability between every population, should be matrix with the shape `(num_classes, num_classes)`, each values must be less than 1.0, there are no any additional reuirements\n",
    "* `mean_weight` - $\\lambda$ paramener (mean) in exponential distribution, should be matrix with the shape `(num_classes, num_classes)`, we will sample edge weights from exponential distribution\n",
    "\n",
    "Remember that `edge_probs[i, j]` relate to `mean_weight[i, j]` and both matrices must be symmetrical"
   ]
  },
  {
   "cell_type": "code",
   "execution_count": 26,
   "metadata": {},
   "outputs": [],
   "source": [
    "ep = np.array([[0.48, 0.02, 0.01, 0.02],\n",
    "               [0.02, 0.12, 0.1, 0.08],\n",
    "               [0.01, 0.1, 0.56, 0.32],\n",
    "               [0.02, 0.08, 0.32, 0.61]])\n",
    "\n",
    "mw = np.array([[29.16, 10.77, 10.05, 11.54],\n",
    "               [10.77, 14.13, 12.49, 12.21],\n",
    "               [10.05, 12.49, 24.76, 19.13],\n",
    "               [11.54, 12.21, 19.13, 31.08]])"
   ]
  },
  {
   "cell_type": "code",
   "execution_count": 27,
   "metadata": {},
   "outputs": [],
   "source": [
    "assert np.all(ep == ep.T)\n",
    "assert np.all(mw == mw.T)"
   ]
  },
  {
   "cell_type": "code",
   "execution_count": 28,
   "metadata": {},
   "outputs": [],
   "source": [
    "ns = NullSimulator(num_classes=4, \n",
    "                   edge_probs=ep, \n",
    "                   mean_weight=mw)"
   ]
  },
  {
   "cell_type": "markdown",
   "metadata": {},
   "source": [
    "Now you need to specify population sizes and generate internal simulator objects (`counts, means, pop_index`). Assuming `ns` is you `NullSimulator` object, you should call `generate_matrices` method that takes:\n",
    "\n",
    "* `population_sizes` - a numpy array with the desired number of individuals in each population (its like `population_sizes[i]` relate to `edge_probs[i, i]` and `mean_weights[i, i]`)\n",
    "* `rng` - just numpy random number generator, fixed by seed"
   ]
  },
  {
   "cell_type": "code",
   "execution_count": 29,
   "metadata": {},
   "outputs": [],
   "source": [
    "ps = np.array([12, 20, 16, 8])"
   ]
  },
  {
   "cell_type": "code",
   "execution_count": 30,
   "metadata": {},
   "outputs": [],
   "source": [
    "counts, means, pop_index = ns.generate_matrices(population_sizes=ps,\n",
    "                                                rng=np.random.default_rng(seed))"
   ]
  },
  {
   "cell_type": "markdown",
   "metadata": {},
   "source": [
    "Finally, call `simulate_graph` method. Specify the path you want to save you graph to"
   ]
  },
  {
   "cell_type": "code",
   "execution_count": 36,
   "metadata": {},
   "outputs": [],
   "source": [
    "graph_file_path = f'{os.environ.get(\"HOME\")}/GENLINK/data/tutorial_graph.csv'\n",
    "ns.simulate_graph(means=means,\n",
    "                  counts=counts, \n",
    "                  pop_index=pop_index,\n",
    "                  path=graph_file_path)"
   ]
  },
  {
   "cell_type": "markdown",
   "metadata": {},
   "source": [
    "Now you get the graph in readable `.csv` format where each row contains edge with its properties. Here is column breakdown:\n",
    "\n",
    "* `node_id1` - name of node in simulated graph\n",
    "* `node_id2` - name of node in simulated graph\n",
    "* `label_id1` - name of population in simulated graph that node in `node_id1` belongs to\n",
    "* `label_id2` - name of population in simulated graph that node in `node_id2` belongs to\n",
    "* `ibd_sum` - as each row is an edge, so this is an edge weight\n",
    "* `ibd_n` - number of IBD segments, it's always 1 because we can't simulate them (keep just for consistency with real data)"
   ]
  },
  {
   "cell_type": "code",
   "execution_count": 37,
   "metadata": {},
   "outputs": [
    {
     "data": {
      "text/html": [
       "<div>\n",
       "<style scoped>\n",
       "    .dataframe tbody tr th:only-of-type {\n",
       "        vertical-align: middle;\n",
       "    }\n",
       "\n",
       "    .dataframe tbody tr th {\n",
       "        vertical-align: top;\n",
       "    }\n",
       "\n",
       "    .dataframe thead th {\n",
       "        text-align: right;\n",
       "    }\n",
       "</style>\n",
       "<table border=\"1\" class=\"dataframe\">\n",
       "  <thead>\n",
       "    <tr style=\"text-align: right;\">\n",
       "      <th></th>\n",
       "      <th>node_id1</th>\n",
       "      <th>node_id2</th>\n",
       "      <th>label_id1</th>\n",
       "      <th>label_id2</th>\n",
       "      <th>ibd_sum</th>\n",
       "      <th>ibd_n</th>\n",
       "    </tr>\n",
       "  </thead>\n",
       "  <tbody>\n",
       "    <tr>\n",
       "      <th>0</th>\n",
       "      <td>node_1</td>\n",
       "      <td>node_0</td>\n",
       "      <td>P0</td>\n",
       "      <td>P0</td>\n",
       "      <td>79.181347</td>\n",
       "      <td>1</td>\n",
       "    </tr>\n",
       "    <tr>\n",
       "      <th>1</th>\n",
       "      <td>node_2</td>\n",
       "      <td>node_0</td>\n",
       "      <td>P0</td>\n",
       "      <td>P0</td>\n",
       "      <td>9.701131</td>\n",
       "      <td>1</td>\n",
       "    </tr>\n",
       "    <tr>\n",
       "      <th>2</th>\n",
       "      <td>node_4</td>\n",
       "      <td>node_0</td>\n",
       "      <td>P0</td>\n",
       "      <td>P0</td>\n",
       "      <td>28.309291</td>\n",
       "      <td>1</td>\n",
       "    </tr>\n",
       "    <tr>\n",
       "      <th>3</th>\n",
       "      <td>node_5</td>\n",
       "      <td>node_0</td>\n",
       "      <td>P0</td>\n",
       "      <td>P0</td>\n",
       "      <td>14.826807</td>\n",
       "      <td>1</td>\n",
       "    </tr>\n",
       "    <tr>\n",
       "      <th>4</th>\n",
       "      <td>node_5</td>\n",
       "      <td>node_2</td>\n",
       "      <td>P0</td>\n",
       "      <td>P0</td>\n",
       "      <td>11.424783</td>\n",
       "      <td>1</td>\n",
       "    </tr>\n",
       "    <tr>\n",
       "      <th>...</th>\n",
       "      <td>...</td>\n",
       "      <td>...</td>\n",
       "      <td>...</td>\n",
       "      <td>...</td>\n",
       "      <td>...</td>\n",
       "      <td>...</td>\n",
       "    </tr>\n",
       "    <tr>\n",
       "      <th>230</th>\n",
       "      <td>node_55</td>\n",
       "      <td>node_47</td>\n",
       "      <td>P3</td>\n",
       "      <td>P2</td>\n",
       "      <td>6.396516</td>\n",
       "      <td>1</td>\n",
       "    </tr>\n",
       "    <tr>\n",
       "      <th>231</th>\n",
       "      <td>node_55</td>\n",
       "      <td>node_49</td>\n",
       "      <td>P3</td>\n",
       "      <td>P3</td>\n",
       "      <td>46.897711</td>\n",
       "      <td>1</td>\n",
       "    </tr>\n",
       "    <tr>\n",
       "      <th>232</th>\n",
       "      <td>node_55</td>\n",
       "      <td>node_50</td>\n",
       "      <td>P3</td>\n",
       "      <td>P3</td>\n",
       "      <td>25.709908</td>\n",
       "      <td>1</td>\n",
       "    </tr>\n",
       "    <tr>\n",
       "      <th>233</th>\n",
       "      <td>node_55</td>\n",
       "      <td>node_52</td>\n",
       "      <td>P3</td>\n",
       "      <td>P3</td>\n",
       "      <td>156.257226</td>\n",
       "      <td>1</td>\n",
       "    </tr>\n",
       "    <tr>\n",
       "      <th>234</th>\n",
       "      <td>node_55</td>\n",
       "      <td>node_54</td>\n",
       "      <td>P3</td>\n",
       "      <td>P3</td>\n",
       "      <td>15.175590</td>\n",
       "      <td>1</td>\n",
       "    </tr>\n",
       "  </tbody>\n",
       "</table>\n",
       "<p>235 rows × 6 columns</p>\n",
       "</div>"
      ],
      "text/plain": [
       "    node_id1 node_id2 label_id1 label_id2     ibd_sum  ibd_n\n",
       "0     node_1   node_0        P0        P0   79.181347      1\n",
       "1     node_2   node_0        P0        P0    9.701131      1\n",
       "2     node_4   node_0        P0        P0   28.309291      1\n",
       "3     node_5   node_0        P0        P0   14.826807      1\n",
       "4     node_5   node_2        P0        P0   11.424783      1\n",
       "..       ...      ...       ...       ...         ...    ...\n",
       "230  node_55  node_47        P3        P2    6.396516      1\n",
       "231  node_55  node_49        P3        P3   46.897711      1\n",
       "232  node_55  node_50        P3        P3   25.709908      1\n",
       "233  node_55  node_52        P3        P3  156.257226      1\n",
       "234  node_55  node_54        P3        P3   15.175590      1\n",
       "\n",
       "[235 rows x 6 columns]"
      ]
     },
     "execution_count": 37,
     "metadata": {},
     "output_type": "execute_result"
    }
   ],
   "source": [
    "pd.read_csv(graph_file_path)"
   ]
  },
  {
   "cell_type": "markdown",
   "metadata": {},
   "source": [
    "It's time to visualisation! Here we are going to use our `DataProcessor` class. Here are its arguments:\n",
    "\n",
    "* `path`\n",
    "* `is_path_object=False`\n",
    "* `disable_printing=True`\n",
    "* `dataset_name=None`\n",
    "* `no_mask_class_in_df=True` "
   ]
  },
  {
   "cell_type": "code",
   "execution_count": null,
   "metadata": {},
   "outputs": [],
   "source": []
  }
 ],
 "metadata": {
  "kernelspec": {
   "display_name": "genlink",
   "language": "python",
   "name": "python3"
  },
  "language_info": {
   "codemirror_mode": {
    "name": "ipython",
    "version": 3
   },
   "file_extension": ".py",
   "mimetype": "text/x-python",
   "name": "python",
   "nbconvert_exporter": "python",
   "pygments_lexer": "ipython3",
   "version": "3.9.19"
  }
 },
 "nbformat": 4,
 "nbformat_minor": 2
}
